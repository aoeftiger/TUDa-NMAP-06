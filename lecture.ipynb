{
 "cells": [
  {
   "cell_type": "markdown",
   "id": "38250724",
   "metadata": {
    "slideshow": {
     "slide_type": "slide"
    }
   },
   "source": [
    "<h1 style=\"text-align: center; vertical-align: middle;\">Numerical Methods of Accelerator Physics</h1>\n",
    "<h2 style=\"text-align: center; vertical-align: middle;\">Lecture by Dr. Adrian Oeftiger</h2>\n",
    "\n",
    "<img src=\"./img/etit.png\" style=\"width: 20%; margin: auto;\" />\n",
    "\n",
    "<h3 style=\"text-align: center; vertical-align: middle;\">Part 6: 02.12.2022</h3>"
   ]
  },
  {
   "cell_type": "markdown",
   "id": "06a8d74b",
   "metadata": {
    "slideshow": {
     "slide_type": "slide"
    }
   },
   "source": [
    "<h2>Run this notebook online!</h2>\n",
    "\n",
    "Interact and run this jupyter notebook online:\n",
    "\n",
    "<div class=\"alert alert-block alert-info\" style=\"text-align:center;\">\n",
    "1. via the public mybinder.org service: <br />\n",
    "\n",
    "<p style=\"text-align: center; margin-left, margin-right: auto; width: 100%;\">\n",
    "<a href=\"https://mybinder.org/v2/gh/aoeftiger/TUDa-NMAP-06/v1.0\"><img src=\"./img/binder_logo.svg\" /></a>\n",
    "</p>\n",
    "</div>\n",
    "\n",
    "<div class=\"alert alert-block alert-success\" style=\"text-align:center;\">\n",
    "2. on the <a href=\"https://tu-jupyter-i.ca.hrz.tu-darmstadt.de/\">local TU Darmstadt jupyterhub $\\nearrow$</a> (using your TU ID)\n",
    "\n",
    "$\\implies$ make sure you installed all the required python packages (see the [README](./README.md))!\n",
    "</div>\n",
    "\n",
    "Finally, also find this lecture rendered [as HTML slides on github $\\nearrow$](https://aoeftiger.github.io/TUDa-NMAP-06/) along with the [source repository $\\nearrow$](https://github.com/aoeftiger/TUDa-NMAP-06)."
   ]
  },
  {
   "cell_type": "markdown",
   "id": "a57cc074",
   "metadata": {
    "slideshow": {
     "slide_type": "slide"
    }
   },
   "source": [
    "<h2>Run this first!</h2>\n",
    "\n",
    "Imports and modules:"
   ]
  },
  {
   "cell_type": "code",
   "execution_count": null,
   "id": "e538eebc",
   "metadata": {
    "slideshow": {
     "slide_type": "-"
    }
   },
   "outputs": [],
   "source": [
    "from config import (np, plt, plot_rfwave, tqdm, trange, \n",
    "                    beta, gamma, Machine, track_one_turn,\n",
    "                    charge, mass, emittance, hamiltonian, \n",
    "                    plot_hamiltonian, plot_rf_overview,\n",
    "                    plot_dist, plot_mp)\n",
    "from scipy.constants import m_p, e, c\n",
    "%matplotlib inline"
   ]
  },
  {
   "cell_type": "markdown",
   "id": "8ac1256f",
   "metadata": {},
   "source": [
    "If the progress bar by `tqdm` (`trange`) in this document does not work, run this:"
   ]
  },
  {
   "cell_type": "code",
   "execution_count": null,
   "id": "e94c6643",
   "metadata": {},
   "outputs": [],
   "source": [
    "!jupyter nbextension enable --py widgetsnbextension"
   ]
  },
  {
   "cell_type": "markdown",
   "id": "d5d19c39",
   "metadata": {
    "slideshow": {
     "slide_type": "slide"
    }
   },
   "source": [
    "<h2 style=\"color: #b51f2a\">Refresher!</h2>\n",
    "\n",
    "- Monte-Carlo Techniques: sampling of distribution functions\n",
    "- uniformly distributed pseudo-random numbers (with Linear Congruential Generators)\n",
    "- Gaussian distributed pseudo-random numbers (Box-Muller method)\n",
    "- Hamiltonian for synchrotron motion (rf bucket, stationary case and small-amplitude approximation)\n",
    "- Equilibrium distributions\n",
    "- Equilibrium at small amplitudes: harmonic oscillation $\\leftrightarrow$ Gaussian distribution\n",
    "- Rejection sampling"
   ]
  },
  {
   "cell_type": "markdown",
   "id": "ca9cec0a",
   "metadata": {
    "slideshow": {
     "slide_type": "slide"
    }
   },
   "source": [
    "<h2 style=\"color: #b51f2a\">Today!</h2>\n",
    "\n",
    "1. Simulation of Full CERN PS Acceleration Ramp\n",
    "2. Initialisation of Phase Space (Cont'd)\n",
    "3. Emittance Preservation & Injection Errors"
   ]
  },
  {
   "cell_type": "markdown",
   "id": "b2821424",
   "metadata": {
    "slideshow": {
     "slide_type": "slide"
    }
   },
   "source": [
    "<div style=\"text-align: center; width:100%;\">\n",
    "    <h2>Part I: Simulation of Full CERN PS Acceleration Ramp</h2>\n",
    "</div>"
   ]
  },
  {
   "cell_type": "markdown",
   "id": "0341caa1",
   "metadata": {
    "slideshow": {
     "slide_type": "slide"
    }
   },
   "source": [
    "<h2>CERN PS Parameters (once more)</h2>\n",
    "\n",
    "For reference, the CERN Proton Synchrotron (PS) parameters:\n",
    "- has a circumference of 2π·100m\n",
    "- takes protons from the PS Booster at a kinetic energy of 2GeV corresponding to a γ of 3.13\n",
    "- injects with 50kV of rf voltage, up to 200kV for ramp\n",
    "- runs at harmonic $h=7$\n",
    "- has a momentum compaction factor of $\\alpha_c=0.027$\n",
    "- typical acceleration rate of (up to) $\\dot{B}=2$ T/s, the bending radius is $\\rho=70.08$ m"
   ]
  },
  {
   "cell_type": "markdown",
   "id": "686b3174",
   "metadata": {
    "slideshow": {
     "slide_type": "slide"
    }
   },
   "source": [
    "<h2>Exercise</h2>\n",
    "\n",
    "Let us properly simulate the <b>full acceleration ramp</b> (including crossing transition) with a bunch of small phase-space area (emittance)! \n",
    "\n",
    "You as operator in the (simulation) control centre shall pay attention to <b>preserve the longitudinal emittance</b> throughout the acceleration!\n",
    "\n",
    "$\\implies$ Observe the tracking results. Can you explain what happens? Think about what you need to change in the machine settings to achieve emittance preservation."
   ]
  },
  {
   "cell_type": "markdown",
   "id": "44a6e735",
   "metadata": {
    "slideshow": {
     "slide_type": "slide"
    }
   },
   "source": [
    "We start by instantiating the PS, `Machine(...)`:\n",
    "\n",
    "(<i>hint: hit both `Shift+Tab` keys inside the parentheses `()` below to get info about the possible arguments to `Machine`</i>)"
   ]
  },
  {
   "cell_type": "code",
   "execution_count": null,
   "id": "5d52af9f",
   "metadata": {},
   "outputs": [],
   "source": [
    "m = Machine()\n",
    "\n",
    "assert m.phi_s > 0, \"machine is not accelerating...?\""
   ]
  },
  {
   "cell_type": "code",
   "execution_count": null,
   "id": "577a2b5d",
   "metadata": {
    "slideshow": {
     "slide_type": "-"
    }
   },
   "outputs": [],
   "source": [
    "# plot_rf_overview();"
   ]
  },
  {
   "cell_type": "markdown",
   "id": "c8cf8400",
   "metadata": {
    "slideshow": {
     "slide_type": "slide"
    }
   },
   "source": [
    "We initialise a Gaussian bunch distribution with very small rms bunch length $\\sigma_z=1\\,$m (so that the small-amplitude approximation holds):"
   ]
  },
  {
   "cell_type": "code",
   "execution_count": null,
   "id": "bc0cf32f",
   "metadata": {},
   "outputs": [],
   "source": [
    "sigma_z = 1"
   ]
  },
  {
   "cell_type": "markdown",
   "id": "fcdd4e75",
   "metadata": {},
   "source": [
    "The \"matched\" rms momentum spread $\\sigma_{\\Delta p}$ (remember, $\\sigma_{\\Delta p}$ and $\\sigma_z$ are linked via equal Hamiltonian values, the equilibrium condition):"
   ]
  },
  {
   "cell_type": "code",
   "execution_count": null,
   "id": "e1a022be",
   "metadata": {},
   "outputs": [],
   "source": [
    "sigma_deltap = np.sqrt(\n",
    "    2 * m.p0() / -m.eta(0) * \n",
    "    charge * m.voltage * np.pi * m.harmonic / (beta(gamma(m.p0())) * c * m.circumference**2)\n",
    ") * sigma_z"
   ]
  },
  {
   "cell_type": "markdown",
   "id": "ab41d0b6",
   "metadata": {
    "slideshow": {
     "slide_type": "slide"
    }
   },
   "source": [
    "<h2>Generating Macro-particles via Box-Muller</h2>\n",
    "\n",
    "(<i>Notabene: with this small emittance / rms size in phase space, the Gaussian tails cannot reach outside the separatrix due to numerical reasons, so no rejection sampling is needed in this particular case.</i>\n",
    "\n",
    "<i>Finite machine precision at FP64 is $\\varepsilon\\approx 2^{-53}$, therefore one can only generate pseudo-random numbers from the Gaussian distribution up to an amplitude of $x$ where $\\exp(-x^2/2)=2^{-53}$, i.e.</i>"
   ]
  },
  {
   "cell_type": "code",
   "execution_count": null,
   "id": "507ae822",
   "metadata": {},
   "outputs": [],
   "source": [
    "np.sqrt(2 * -np.log(2**-53))"
   ]
  },
  {
   "cell_type": "markdown",
   "id": "7891e17c",
   "metadata": {},
   "source": [
    "<i>$\\implies$ given $\\sigma_z=1\\,$</i>m<i>, no particles can be generated outside of $z=8.6\\,$m and the equivalent Hamiltonian contour in phase space)</i>"
   ]
  },
  {
   "cell_type": "code",
   "execution_count": null,
   "id": "d9d2b7d9",
   "metadata": {
    "slideshow": {
     "slide_type": "slide"
    }
   },
   "outputs": [],
   "source": [
    "N = 1000"
   ]
  },
  {
   "cell_type": "code",
   "execution_count": null,
   "id": "15012d32",
   "metadata": {},
   "outputs": [],
   "source": [
    "np.random.seed(12345)\n",
    "\n",
    "z = np.random.normal(loc=0, scale=sigma_z, size=N)\n",
    "deltap = np.random.normal(loc=0, scale=sigma_deltap, size=N)"
   ]
  },
  {
   "cell_type": "code",
   "execution_count": null,
   "id": "b80a7b11",
   "metadata": {},
   "outputs": [],
   "source": [
    "plot_hamiltonian(m)\n",
    "plt.scatter(z, deltap / m.p0(), marker='.', s=1);"
   ]
  },
  {
   "cell_type": "markdown",
   "id": "97c5a1ab",
   "metadata": {
    "slideshow": {
     "slide_type": "slide"
    }
   },
   "source": [
    "<h2>Compute Duration of Ramp</h2>\n",
    "\n",
    "$(\\Delta\\gamma)_\\mathrm{turn} = \\cfrac{\\Delta E_\\mathrm{tot}}{m_0c^2} = \\cfrac{qV\\sin(\\varphi_s)}{m_0c^2}$\n",
    "\n",
    "such that accelerating from $\\gamma_\\mathrm{ref}=3.1$ to $\\gamma_\\mathrm{ref}=27.7$ takes as many turns as\n",
    "\n",
    "$n_\\mathrm{turns}=\\cfrac{27.7-3.1}{(\\Delta\\gamma)_\\mathrm{turn}}$"
   ]
  },
  {
   "cell_type": "code",
   "execution_count": null,
   "id": "9770b219",
   "metadata": {},
   "outputs": [],
   "source": [
    "dgamma_per_turn = charge * m.voltage * np.sin(m.phi_s) / (mass * c**2)\n",
    "n_turns = int((27.7 - 3.1) / dgamma_per_turn)\n",
    "n_turns"
   ]
  },
  {
   "cell_type": "markdown",
   "id": "2e4f0397",
   "metadata": {},
   "source": [
    "Record longitudinal emittance during tracking:"
   ]
  },
  {
   "cell_type": "code",
   "execution_count": null,
   "id": "a8f599cf",
   "metadata": {},
   "outputs": [],
   "source": [
    "epsn_z = np.zeros(n_turns, dtype=np.float64)\n",
    "\n",
    "epsn_z[0] = emittance(z, deltap)"
   ]
  },
  {
   "cell_type": "markdown",
   "id": "6aea59d4",
   "metadata": {
    "slideshow": {
     "slide_type": "slide"
    }
   },
   "source": [
    "Let's go tracking! ($\\approx 1\\,$min total time)"
   ]
  },
  {
   "cell_type": "code",
   "execution_count": null,
   "id": "1d3cd18c",
   "metadata": {},
   "outputs": [],
   "source": [
    "for i_turn in trange(1, n_turns):\n",
    "    z, deltap = track_one_turn(z, deltap, m)\n",
    "    \n",
    "    epsn_z[i_turn] = emittance(z, deltap)"
   ]
  },
  {
   "cell_type": "markdown",
   "id": "9e5f8905",
   "metadata": {},
   "source": [
    "We have reached the extraction energy of $\\gamma=27.7$:"
   ]
  },
  {
   "cell_type": "code",
   "execution_count": null,
   "id": "3f524781",
   "metadata": {},
   "outputs": [],
   "source": [
    "m.gamma_ref"
   ]
  },
  {
   "cell_type": "markdown",
   "id": "6a3892f7",
   "metadata": {
    "slideshow": {
     "slide_type": "slide"
    }
   },
   "source": [
    "Check that we properly conserved the rms emittance:"
   ]
  },
  {
   "cell_type": "code",
   "execution_count": null,
   "id": "4f8bb6ce",
   "metadata": {},
   "outputs": [],
   "source": [
    "plt.plot(np.arange(n_turns) / 100000, epsn_z / e)\n",
    "\n",
    "plt.xlabel('Turns [100k]')\n",
    "plt.ylabel('$\\epsilon_z$ [eV.s]');"
   ]
  },
  {
   "cell_type": "markdown",
   "id": "bbbc1168",
   "metadata": {},
   "source": [
    "<span style=\"color: #e6541a;\">$\\implies$ use the phase-space plots and </span>`plot_hamiltonian`<span style=\"color: #e6541a;\"> as well as </span>`plot_rf_overview`<span style=\"color: #e6541a;\"> above as diagnostics. You can stop the tracking after a certain turn to investigate, e.g. by changing the value of </span>`n_turns`<span style=\"color: #e6541a;\"> inside the </span>`trange`<span style=\"color: #e6541a;\"> counter in the </span>`for`<span style=\"color: #e6541a;\"> loop.</span>"
   ]
  },
  {
   "cell_type": "code",
   "execution_count": null,
   "id": "02cdd6bc",
   "metadata": {
    "slideshow": {
     "slide_type": "slide"
    }
   },
   "outputs": [],
   "source": [
    "plot_hamiltonian(m);\n",
    "plt.scatter(z, deltap / m.p0(), marker='.', s=1);"
   ]
  },
  {
   "cell_type": "markdown",
   "id": "88a91c53",
   "metadata": {
    "slideshow": {
     "slide_type": "slide"
    }
   },
   "source": [
    "<div style=\"text-align: center; width:100%;\">\n",
    "    <h2>Part II: Initialisation of Phase Space (Cont'd)</h2>\n",
    "</div>"
   ]
  },
  {
   "cell_type": "markdown",
   "id": "89893595",
   "metadata": {
    "slideshow": {
     "slide_type": "slide"
    }
   },
   "source": [
    "<h2>Matching with Nonlinear Hamiltonians</h2>\n",
    "\n",
    "Last lecture we looked at the thermal equilibrium distribution in small-amplitude approximation ($=$ Gaussian distribution) to generate a bunch of macro-particles in longitudinal phase space.\n",
    "\n",
    "For the Gaussian distribution, the target rms bunch length $\\hat{\\sigma}_z$ directly enters the generator as a multiplication factor: a random variable $x$ following a standard Gaussian normal distribution has $\\sigma_x=1$, $z=\\hat{\\sigma}_z$ will then produce the Gaussian normal distributed random variable $z$ with $\\sigma_z=\\hat{\\sigma}_z$.\n",
    "\n",
    "For a general thermal equilibrium distribution in a nonlinear Hamiltonian, the PDF becomes $\\psi=\\psi(\\mathcal{H})\\propto \\exp(\\mathcal{H}/\\mathcal{H}_0)$ for a constant parameter $\\mathcal{H}_0$. $\\mathcal{H}_0$ is determined through $\\hat{\\sigma}_z$ such that $\\psi$ yields a distribution with corresponding rms bunch length. For nonlinear $\\mathcal{H}$, the parameter $\\mathcal{H}_0$ will generally have to be computed numerically, this process is referred to as <b>\"matching\"</b>!"
   ]
  },
  {
   "cell_type": "markdown",
   "id": "16d443a2",
   "metadata": {
    "slideshow": {
     "slide_type": "slide"
    }
   },
   "source": [
    "In the following we will investigate the full nonlinear Hamiltonian case, $\\psi=\\psi(\\mathcal{H})$.\n",
    "\n",
    "Let's work with the python library `PyHEADTAIL` (simulation suite for beam dynamics):"
   ]
  },
  {
   "cell_type": "code",
   "execution_count": null,
   "id": "869d2eff",
   "metadata": {},
   "outputs": [],
   "source": [
    "!pip install PyHEADTAIL"
   ]
  },
  {
   "cell_type": "markdown",
   "id": "b7a68ddd",
   "metadata": {
    "slideshow": {
     "slide_type": "slide"
    }
   },
   "source": [
    "`PyHEADTAIL` provides a class to represent rf buckets (for plotting as well as matching):"
   ]
  },
  {
   "cell_type": "code",
   "execution_count": null,
   "id": "3fdb3798",
   "metadata": {},
   "outputs": [],
   "source": [
    "from PyHEADTAIL.trackers.rf_bucket import RFBucket"
   ]
  },
  {
   "cell_type": "markdown",
   "id": "6f1c4215",
   "metadata": {},
   "source": [
    "We define a convenience function to provide `RFBucket` instances given a `Machine` instance:"
   ]
  },
  {
   "cell_type": "code",
   "execution_count": null,
   "id": "8e0fadbf",
   "metadata": {},
   "outputs": [],
   "source": [
    "def get_pyht_rfbucket(machine):\n",
    "    m = machine\n",
    "    deltap_per_turn = charge * m.voltage / (beta(gamma(m.p0())) * c) * np.sin(m.phi_s)\n",
    "    rfb = RFBucket(m.circumference, m.gamma_ref, mass, charge, [m.alpha_c], deltap_per_turn, \n",
    "                   [m.harmonic], [m.voltage], [np.pi + m.phi_s])\n",
    "    # PyHEADTAIL has a different convention for the phase and is offset by π compared to our lecture\n",
    "    return rfb"
   ]
  },
  {
   "cell_type": "markdown",
   "id": "85699eda",
   "metadata": {
    "slideshow": {
     "slide_type": "slide"
    }
   },
   "source": [
    "<h2>Visualising the Distributions in the RF Bucket</h2>"
   ]
  },
  {
   "cell_type": "code",
   "execution_count": null,
   "id": "f2af822d",
   "metadata": {
    "slideshow": {
     "slide_type": "-"
    }
   },
   "outputs": [],
   "source": [
    "m = Machine(gamma_ref=3.13)"
   ]
  },
  {
   "cell_type": "code",
   "execution_count": null,
   "id": "16615161",
   "metadata": {},
   "outputs": [],
   "source": [
    "rfb = get_pyht_rfbucket(m)"
   ]
  },
  {
   "cell_type": "code",
   "execution_count": null,
   "id": "b262c453",
   "metadata": {},
   "outputs": [],
   "source": [
    "from PyHEADTAIL.particles.rfbucket_matching import (\n",
    "    ThermalDistribution, WaterbagDistribution, ParabolicDistribution)"
   ]
  },
  {
   "cell_type": "code",
   "execution_count": null,
   "id": "9136276c",
   "metadata": {},
   "outputs": [],
   "source": [
    "sigma_z = 8"
   ]
  },
  {
   "cell_type": "markdown",
   "id": "6bee554a",
   "metadata": {},
   "source": [
    "Computing the (initial) guess for $\\mathcal{H}_0$ based on the small-amplitude approximation:"
   ]
  },
  {
   "cell_type": "code",
   "execution_count": null,
   "id": "9b354784",
   "metadata": {},
   "outputs": [],
   "source": [
    "H0 = rfb.guess_H0(sigma_z, from_variable='sigma')\n",
    "H0"
   ]
  },
  {
   "cell_type": "markdown",
   "id": "6bd86178",
   "metadata": {
    "slideshow": {
     "slide_type": "slide"
    }
   },
   "source": [
    "<h2>Reminder: Equilibrium at Small Amplitudes</h2>\n",
    "\n",
    "<i>Small-amplitude approximation</i> and a stationary rf bucket below transition, $\\varphi_s=0$: particles follow harmonic oscillation with\n",
    "\n",
    "$$\\mathcal{H}_\\mathrm{stat,small}(z,\\Delta p) = \\frac{1}{2}\\frac{-\\eta}{p_0} \\Delta p{}^2 + \\frac{qV}{\\beta c}\\cdot \\cfrac{\\pi h}{C^2}\\cdot z^2\n",
    "$$\n",
    "\n",
    "The PDF of the <i>thermal distribution</i> becomes\n",
    "\n",
    "$$\\psi(\\mathcal{H})\\propto\\exp\\left(\\frac{\\mathcal{H}_{stat,small}}{\\mathcal{H}_0}\\right)=\\exp\\left(\\frac{1}{2}\\frac{\\frac{qV\\,2\\pi h}{\\beta c C^2}}{\\mathcal{H}_0}\\cdot z^2\\right) \\cdot \\exp\\left(\\frac{1}{2}\\frac{-\\eta/p_0}{\\mathcal{H}_0}\\cdot \\Delta p^2\\right)$$\n",
    "\n",
    "which is simply a <b>bi-Gaussian distribution</b> in $\\Delta p$ and $z$! The constant $\\mathcal{H}_0$ is determined by a choice of the rms bunch length $\\sigma_z$ (or equivalently the rms momentum deviation $\\sigma_\\delta=\\sigma_{\\Delta p}/p_0$):\n",
    "\n",
    "$$\\mathcal{H}_0 = \\mathcal{H}_\\mathrm{stat,small}(\\sigma_z,\\Delta p=0) = \\frac{qV}{\\beta c}\\cdot \\cfrac{\\pi h}{C^2}\\cdot \\sigma_z{}^2 \\color{red}{=} \\mathcal{H}_\\mathrm{stat,small}(z=0,\\sigma_{\\Delta p}) = \\frac{1}{2}\\frac{-\\eta}{p_0} \\sigma_{\\Delta p}{}^2$$\n",
    "\n",
    "$\\implies$ as equilibrium or <b>matching condition</b>, <b>$\\sigma_z$ and $\\sigma_\\delta$ are linked</b> to each other via equal Hamiltonian values!"
   ]
  },
  {
   "cell_type": "code",
   "execution_count": null,
   "id": "d014c2af",
   "metadata": {
    "slideshow": {
     "slide_type": "slide"
    }
   },
   "outputs": [],
   "source": [
    "plot_dist(ThermalDistribution, rfb, H0=H0);"
   ]
  },
  {
   "cell_type": "markdown",
   "id": "f24cff30",
   "metadata": {},
   "source": [
    "<p style=\"color: #e6541a;\">$\\implies$ adjust the $\\sigma_z$ and observe the impact of the non-linearities on the matched $\\psi$ (small $\\sigma_z$ will make the distribution more Gaussian-like)!</p>"
   ]
  },
  {
   "cell_type": "markdown",
   "id": "309dfe1c",
   "metadata": {
    "slideshow": {
     "slide_type": "slide"
    }
   },
   "source": [
    "Change the distribution type from `ThermalDistribution` to `WaterbagDistribution` (or e.g. `ParabolicDistribution`):"
   ]
  },
  {
   "cell_type": "code",
   "execution_count": null,
   "id": "65d11bf0",
   "metadata": {},
   "outputs": [],
   "source": [
    "plot_dist(WaterbagDistribution, rfb, H0=H0);"
   ]
  },
  {
   "cell_type": "markdown",
   "id": "5c545165",
   "metadata": {
    "slideshow": {
     "slide_type": "slide"
    }
   },
   "source": [
    "<h2>Matching Algorithm</h2>\n",
    "\n",
    "Given a target rms bunch length $\\hat{\\sigma}_z$, define the following \"matching\" algorithm:\n",
    "\n",
    "1. initial value for $\\mathcal{H}_0$ given by small-amplitude approximation (the bi-Gaussian case)\n",
    "2. compute (numerically) the resulting $\\sigma_z$ for full $\\psi(\\mathcal{H}/\\mathcal{H}_0)$\n",
    "3. compare $\\sigma_z$ with target $\\hat{\\sigma}_z$\n",
    "4. adjust $\\mathcal{H}_0$ (for $\\sigma_z<\\hat{\\sigma}_z$ increase $\\mathcal{H}_0$ and vice versa), go to step 2 until converged"
   ]
  },
  {
   "cell_type": "markdown",
   "id": "9793f4b1",
   "metadata": {},
   "source": [
    "This matching algorithm is implemented in the `RFBucketMatcher` class in `PyHEADTAIL`:"
   ]
  },
  {
   "cell_type": "code",
   "execution_count": null,
   "id": "a47bfb4a",
   "metadata": {},
   "outputs": [],
   "source": [
    "from PyHEADTAIL.particles.generators import RFBucketMatcher"
   ]
  },
  {
   "cell_type": "code",
   "execution_count": null,
   "id": "6f933231",
   "metadata": {},
   "outputs": [],
   "source": [
    "rfb_matcher = RFBucketMatcher(rfb, ThermalDistribution, sigma_z=sigma_z)\n",
    "rfb_matcher.integrationmethod = 'cumtrapz' # better behaved numerical integration method"
   ]
  },
  {
   "cell_type": "markdown",
   "id": "2b24b765",
   "metadata": {
    "slideshow": {
     "slide_type": "slide"
    }
   },
   "source": [
    "Calling the `RFBucketMatcher.generate` method will \n",
    "\n",
    "(1.) iterate on $\\mathcal{H}_0$ until the numerical integration of $\\psi(\\mathcal{H})$ for the bunch length converges to $\\hat{\\sigma}_z$, and then \n",
    "\n",
    "(2.) sample this $\\psi(\\mathcal{H})$ by <b>rejection sampling</b> (see previous lecture) to generate the macro-particle phase-space coordinates $(z,\\delta)$"
   ]
  },
  {
   "cell_type": "code",
   "execution_count": null,
   "id": "d3e765e3",
   "metadata": {},
   "outputs": [],
   "source": [
    "z, delta, _, _ = rfb_matcher.generate(int(1e5))"
   ]
  },
  {
   "cell_type": "markdown",
   "id": "f2fdaaf5",
   "metadata": {
    "slideshow": {
     "slide_type": "slide"
    }
   },
   "source": [
    "The relevant code in the `RFBucketMatcher` implementing the rejection sampling:\n",
    "\n",
    "```python\n",
    "xmin, xmax = self.rfbucket.z_left, self.rfbucket.z_right\n",
    "ymin = -self.rfbucket.dp_max(self.rfbucket.z_right)\n",
    "ymax = -ymin\n",
    "        \n",
    "uniform = np.random.uniform\n",
    "n_gen = macroparticlenumber\n",
    "u = uniform(low=xmin, high=xmax, size=n_gen)\n",
    "v = uniform(low=ymin, high=ymax, size=n_gen)\n",
    "s = uniform(size=n_gen)\n",
    "\n",
    "def mask_out(s, u, v):\n",
    "    return s >= self.psi(u, v)\n",
    "\n",
    "masked_out = mask_out(s, u, v)\n",
    "while np.any(masked_out):\n",
    "    masked_ids = np.where(masked_out)[0]\n",
    "    n_gen = len(masked_ids)\n",
    "    u[masked_out] = uniform(low=xmin, high=xmax, size=n_gen)\n",
    "    v[masked_out] = uniform(low=ymin, high=ymax, size=n_gen)\n",
    "    s[masked_out] = uniform(size=n_gen)\n",
    "    masked_out[masked_ids] = mask_out(\n",
    "        s[masked_out], u[masked_out], v[masked_out]\n",
    "    )\n",
    "```"
   ]
  },
  {
   "cell_type": "markdown",
   "id": "97bebec7",
   "metadata": {
    "slideshow": {
     "slide_type": "slide"
    }
   },
   "source": [
    "Compare the converged value of $\\mathcal{H}_0$..."
   ]
  },
  {
   "cell_type": "code",
   "execution_count": null,
   "id": "d58d43e7",
   "metadata": {},
   "outputs": [],
   "source": [
    "rfb_matcher.psi_object.H0"
   ]
  },
  {
   "cell_type": "markdown",
   "id": "c6e6295c",
   "metadata": {},
   "source": [
    "... with the small-amplitude approximation value:"
   ]
  },
  {
   "cell_type": "code",
   "execution_count": null,
   "id": "dea5fdd1",
   "metadata": {},
   "outputs": [],
   "source": [
    "rfb.guess_H0(sigma_z, from_variable='sigma')"
   ]
  },
  {
   "cell_type": "markdown",
   "id": "81148585",
   "metadata": {},
   "source": [
    "<p style=\"color: #e6541a;\">$\\implies$ are the matched $\\mathcal{H}_0$ and the small-amplitude approximation value closer for smaller target $\\hat{\\sigma}_z$?</p>"
   ]
  },
  {
   "cell_type": "markdown",
   "id": "3af2fb46",
   "metadata": {
    "slideshow": {
     "slide_type": "slide"
    }
   },
   "source": [
    "Let's have a look at the generated macro-particle distribution:"
   ]
  },
  {
   "cell_type": "code",
   "execution_count": null,
   "id": "05489d59",
   "metadata": {},
   "outputs": [],
   "source": [
    "plot_mp(z, delta, rfb);"
   ]
  },
  {
   "cell_type": "markdown",
   "id": "5a85636f",
   "metadata": {
    "slideshow": {
     "slide_type": "slide"
    }
   },
   "source": [
    "Does the rms bunch length of the macro-particle distribution match the chosen target $\\hat{\\sigma}_z$?"
   ]
  },
  {
   "cell_type": "code",
   "execution_count": null,
   "id": "3d92ccfb",
   "metadata": {},
   "outputs": [],
   "source": [
    "np.std(z)"
   ]
  },
  {
   "cell_type": "code",
   "execution_count": null,
   "id": "aa7a76ce",
   "metadata": {},
   "outputs": [],
   "source": [
    "sigma_z"
   ]
  },
  {
   "cell_type": "markdown",
   "id": "0f5cb49f",
   "metadata": {
    "slideshow": {
     "slide_type": "slide"
    }
   },
   "source": [
    "<div style=\"text-align: center; width:100%;\">\n",
    "    <h2>Part III: Emittance Preservation & Injection Errors</h2>\n",
    "</div>"
   ]
  },
  {
   "cell_type": "markdown",
   "id": "f0d0218c",
   "metadata": {
    "slideshow": {
     "slide_type": "slide"
    }
   },
   "source": [
    "<h2>Sources of Simulated Emittance Growth</h2>\n",
    "\n",
    "Numerical:\n",
    "- **distribution not an exact equilibrium distribution** (often the case for Gaussians)\n",
    "- bad (non-symplectic) numerical integrator\n",
    "\n",
    "Physical:\n",
    "- magnet power supply noise, resonances\n",
    "- multi-particle / collective effects (intra-beam scattering, instabilities)\n",
    "- **mismatch at injection into synchrotron**"
   ]
  },
  {
   "cell_type": "markdown",
   "id": "3d01e333",
   "metadata": {
    "slideshow": {
     "slide_type": "slide"
    }
   },
   "source": [
    "<h2>Section A: Numerical Emittance Growth</h2>\n",
    "\n",
    "Based on the stationary rf bucket (no acceleration) case, we investigate the difference between initialising a bi-Gaussian and a matched thermal distribution based on the nonlinear Hamiltonian $\\mathcal{H}$.\n",
    "\n",
    "Start with the bi-Gaussian (simulation as previous lecture):"
   ]
  },
  {
   "cell_type": "code",
   "execution_count": null,
   "id": "aaf20bcc",
   "metadata": {},
   "outputs": [],
   "source": [
    "m = Machine(phi_s=0)"
   ]
  },
  {
   "cell_type": "code",
   "execution_count": null,
   "id": "f89d08cf",
   "metadata": {},
   "outputs": [],
   "source": [
    "sigma_z = 13.5"
   ]
  },
  {
   "cell_type": "code",
   "execution_count": null,
   "id": "74b9831e",
   "metadata": {
    "slideshow": {
     "slide_type": "slide"
    }
   },
   "outputs": [],
   "source": [
    "def generate_gaussian_in_rfbucket(N, sigma_z, machine, seed=12345, margin=0.05):\n",
    "    '''Generate a bi-Gaussian distribution with N macro-particles,\n",
    "    rms bunch length sigma_z and a matched sigma_deltap via the\n",
    "    machine settings.\n",
    "    '''\n",
    "    np.random.seed(seed)\n",
    "    \n",
    "    m = machine\n",
    "    \n",
    "    sigma_deltap = np.sqrt(\n",
    "        2 * m.p0() / -m.eta(0) * \n",
    "        charge * m.voltage * np.pi * m.harmonic / (beta(gamma(m.p0())) * c * m.circumference**2)\n",
    "    ) * sigma_z\n",
    "\n",
    "    z_ini = np.random.normal(loc=0, scale=sigma_z, size=N)\n",
    "    deltap_ini = np.random.normal(loc=0, scale=sigma_deltap, size=N)\n",
    "    \n",
    "    H_safetymargin = margin * hamiltonian(0, 0, m)\n",
    "\n",
    "    H_values = hamiltonian(z_ini, deltap_ini, m) - H_safetymargin\n",
    "\n",
    "    while any(H_values >= 0):\n",
    "        mask_bad = H_values >= 0\n",
    "        N_bad = np.sum(mask_bad)\n",
    "        print (N_bad)\n",
    "        # re-initialise bad particles:\n",
    "        z_ini[mask_bad] = np.random.normal(loc=0, scale=sigma_z, size=N_bad)\n",
    "        deltap_ini[mask_bad] = np.random.normal(loc=0, scale=sigma_deltap, size=N_bad)\n",
    "        # re-evaluate rejection condition\n",
    "        H_values = hamiltonian(z_ini, deltap_ini, m) - H_safetymargin\n",
    "    \n",
    "    return z_ini, deltap_ini"
   ]
  },
  {
   "cell_type": "code",
   "execution_count": null,
   "id": "8f68965b",
   "metadata": {
    "slideshow": {
     "slide_type": "slide"
    }
   },
   "outputs": [],
   "source": [
    "N = 10000\n",
    "n_turns = 5000"
   ]
  },
  {
   "cell_type": "code",
   "execution_count": null,
   "id": "801b4d39",
   "metadata": {},
   "outputs": [],
   "source": [
    "z_ini, deltap_ini = generate_gaussian_in_rfbucket(N, sigma_z, m)"
   ]
  },
  {
   "cell_type": "code",
   "execution_count": null,
   "id": "ccd75022",
   "metadata": {},
   "outputs": [],
   "source": [
    "plot_mp(z_ini, deltap_ini / m.p0(), rfb=get_pyht_rfbucket(m), n_bins=20);"
   ]
  },
  {
   "cell_type": "markdown",
   "id": "0ce1e347",
   "metadata": {
    "slideshow": {
     "slide_type": "slide"
    }
   },
   "source": [
    "Tracking the bi-Gaussian distribution..."
   ]
  },
  {
   "cell_type": "code",
   "execution_count": null,
   "id": "a274573a",
   "metadata": {},
   "outputs": [],
   "source": [
    "z = np.zeros((n_turns, N), dtype=np.float64)\n",
    "deltap = np.zeros_like(z)\n",
    "\n",
    "z[0] = z_ini\n",
    "deltap[0] = deltap_ini"
   ]
  },
  {
   "cell_type": "code",
   "execution_count": null,
   "id": "48aef2d8",
   "metadata": {},
   "outputs": [],
   "source": [
    "for i_turn in trange(1, n_turns):\n",
    "    z[i_turn], deltap[i_turn] = track_one_turn(z[i_turn - 1], deltap[i_turn - 1], m)"
   ]
  },
  {
   "cell_type": "markdown",
   "id": "afcbf780",
   "metadata": {
    "slideshow": {
     "slide_type": "slide"
    }
   },
   "source": [
    "The rms emittance evolution:"
   ]
  },
  {
   "cell_type": "code",
   "execution_count": null,
   "id": "fc4a80b2",
   "metadata": {},
   "outputs": [],
   "source": [
    "epsn_z = np.array([emittance(z_i, deltap_i) for z_i, deltap_i in zip(z, deltap)])\n",
    "\n",
    "ylim_m = np.median(4 * np.pi * epsn_z / e)\n",
    "ylim_d = 1.1 * np.max(np.abs(ylim_m - 4 * np.pi * epsn_z / e))"
   ]
  },
  {
   "cell_type": "code",
   "execution_count": null,
   "id": "e0cb3588",
   "metadata": {},
   "outputs": [],
   "source": [
    "plt.plot(4 * np.pi * epsn_z / e)\n",
    "\n",
    "plt.ylim(ylim_m - ylim_d, ylim_m + ylim_d)\n",
    "\n",
    "plt.xlabel('Turns')\n",
    "plt.ylabel('$4\\pi\\epsilon_z$ [eV.s]');"
   ]
  },
  {
   "cell_type": "markdown",
   "id": "863c80a4",
   "metadata": {
    "slideshow": {
     "slide_type": "slide"
    }
   },
   "source": [
    "$\\leadsto$ the Gaussian particle distribution is <b>not exactly</b> in equilibrium for sufficiently large rms values in the nonlinear potential, the particles <b>filament</b> and the rms emittance grows (a little)! \n",
    "\n",
    "$\\implies$ compare to using full nonlinear Hamiltonian to construct PDF $\\psi(\\mathcal{H})\\propto\\exp\\left(\\cfrac{\\mathcal{H}}{\\mathcal{H}_0}\\right)$"
   ]
  },
  {
   "cell_type": "code",
   "execution_count": null,
   "id": "6450c3de",
   "metadata": {
    "slideshow": {
     "slide_type": "slide"
    }
   },
   "outputs": [],
   "source": [
    "rfb = get_pyht_rfbucket(m)\n",
    "\n",
    "rfb_matcher = RFBucketMatcher(rfb, ThermalDistribution, sigma_z=sigma_z)\n",
    "rfb_matcher.integrationmethod = 'cumtrapz'"
   ]
  },
  {
   "cell_type": "code",
   "execution_count": null,
   "id": "26383287",
   "metadata": {
    "scrolled": true
   },
   "outputs": [],
   "source": [
    "z_ini, delta_ini, _, _ = rfb_matcher.generate(N)"
   ]
  },
  {
   "cell_type": "code",
   "execution_count": null,
   "id": "88fa241c",
   "metadata": {},
   "outputs": [],
   "source": [
    "deltap_ini = delta_ini * m.p0()"
   ]
  },
  {
   "cell_type": "code",
   "execution_count": null,
   "id": "197f8a7d",
   "metadata": {},
   "outputs": [],
   "source": [
    "plot_mp(z_ini, delta_ini, rfb, n_bins=20);"
   ]
  },
  {
   "cell_type": "markdown",
   "id": "9b702c9d",
   "metadata": {
    "slideshow": {
     "slide_type": "slide"
    }
   },
   "source": [
    "Tracking the matched thermal distribution..."
   ]
  },
  {
   "cell_type": "code",
   "execution_count": null,
   "id": "f1646053",
   "metadata": {},
   "outputs": [],
   "source": [
    "z = np.zeros((n_turns, N), dtype=np.float64)\n",
    "deltap = np.zeros_like(z)\n",
    "\n",
    "z[0] = z_ini\n",
    "deltap[0] = deltap_ini"
   ]
  },
  {
   "cell_type": "code",
   "execution_count": null,
   "id": "9b343ee1",
   "metadata": {},
   "outputs": [],
   "source": [
    "for i_turn in trange(1, n_turns):\n",
    "    z[i_turn], deltap[i_turn] = track_one_turn(z[i_turn - 1], deltap[i_turn - 1], m)"
   ]
  },
  {
   "cell_type": "markdown",
   "id": "8f3368a3",
   "metadata": {
    "slideshow": {
     "slide_type": "slide"
    }
   },
   "source": [
    "The rms emittance evolution:"
   ]
  },
  {
   "cell_type": "code",
   "execution_count": null,
   "id": "d52ec7d6",
   "metadata": {},
   "outputs": [],
   "source": [
    "epsn_z = np.array([emittance(z_i, deltap_i) for z_i, deltap_i in zip(z, deltap)])\n",
    "\n",
    "ylim_m = np.median(4 * np.pi * epsn_z / e)"
   ]
  },
  {
   "cell_type": "code",
   "execution_count": null,
   "id": "15d66ef1",
   "metadata": {},
   "outputs": [],
   "source": [
    "plt.plot(4 * np.pi * epsn_z / e)\n",
    "\n",
    "plt.ylim(ylim_m - ylim_d, ylim_m + ylim_d)\n",
    "\n",
    "plt.xlabel('Turns')\n",
    "plt.ylabel('$4\\pi\\epsilon_z$ [eV.s]');"
   ]
  },
  {
   "cell_type": "markdown",
   "id": "05bc5ea3",
   "metadata": {},
   "source": [
    "$\\implies$ this result shows that the nonlinearly matched thermal distribution is in equilibrium from the start (up to macro-particle noise, the fluctuations reduce with $1/\\sqrt{N}$)!"
   ]
  },
  {
   "cell_type": "markdown",
   "id": "4c17f374",
   "metadata": {
    "slideshow": {
     "slide_type": "slide"
    }
   },
   "source": [
    "<h2>Section B: Dipole Injection Mismatch</h2>"
   ]
  },
  {
   "cell_type": "code",
   "execution_count": null,
   "id": "ad7d0472",
   "metadata": {},
   "outputs": [],
   "source": [
    "m = Machine(phi_s=0)\n",
    "\n",
    "sigma_z = 8\n",
    "\n",
    "z_ini, deltap_ini = generate_gaussian_in_rfbucket(N, sigma_z, m, margin=0.15)"
   ]
  },
  {
   "cell_type": "markdown",
   "id": "1eb863e1",
   "metadata": {},
   "source": [
    "Simulate a dipole injection mismatch (e.g. when the rf phase is not well synchronised between the injector and the synchrotron):"
   ]
  },
  {
   "cell_type": "code",
   "execution_count": null,
   "id": "14434454",
   "metadata": {},
   "outputs": [],
   "source": [
    "z_ini -= 0.5 * sigma_z"
   ]
  },
  {
   "cell_type": "markdown",
   "id": "53460ab2",
   "metadata": {},
   "source": [
    "4 meter mismatch in $z$ correspond to a phase mismatch of 16 degree:"
   ]
  },
  {
   "cell_type": "code",
   "execution_count": null,
   "id": "02805625",
   "metadata": {},
   "outputs": [],
   "source": [
    "4 / (m.circumference / m.harmonic) * 360"
   ]
  },
  {
   "cell_type": "code",
   "execution_count": null,
   "id": "3c245fb9",
   "metadata": {
    "slideshow": {
     "slide_type": "slide"
    }
   },
   "outputs": [],
   "source": [
    "plot_mp(z_ini, deltap_ini / m.p0(), rfb=get_pyht_rfbucket(m), n_bins=20);"
   ]
  },
  {
   "cell_type": "markdown",
   "id": "51840a9e",
   "metadata": {},
   "source": [
    "$\\implies$ note the offset towards negative $z$, the contours of the macro-particle density are no longer matched to the Hamiltonian contours."
   ]
  },
  {
   "cell_type": "markdown",
   "id": "b645f514",
   "metadata": {
    "slideshow": {
     "slide_type": "slide"
    }
   },
   "source": [
    "The safety `margin` inside the separatrix (where no particles are generated in `generate_gaussian_in_rfbucket`) should be chosen large enough such that no particles are located outside the rf bucket after the mismatch:"
   ]
  },
  {
   "cell_type": "code",
   "execution_count": null,
   "id": "31006970",
   "metadata": {},
   "outputs": [],
   "source": [
    "assert all(hamiltonian(z_ini, deltap_ini, m) < 0), 'particles have been generated outside the rf bucket!'"
   ]
  },
  {
   "cell_type": "markdown",
   "id": "fd17654d",
   "metadata": {
    "slideshow": {
     "slide_type": "slide"
    }
   },
   "source": [
    "Tracking the mismatched distribution of macro-particles:"
   ]
  },
  {
   "cell_type": "code",
   "execution_count": null,
   "id": "f21be935",
   "metadata": {},
   "outputs": [],
   "source": [
    "z = np.zeros((n_turns, N), dtype=np.float64)\n",
    "deltap = np.zeros_like(z)\n",
    "\n",
    "z[0] = z_ini\n",
    "deltap[0] = deltap_ini"
   ]
  },
  {
   "cell_type": "code",
   "execution_count": null,
   "id": "e0f5730a",
   "metadata": {},
   "outputs": [],
   "source": [
    "for i_turn in trange(1, n_turns):\n",
    "    z[i_turn], deltap[i_turn] = track_one_turn(z[i_turn - 1], deltap[i_turn - 1], m)"
   ]
  },
  {
   "cell_type": "markdown",
   "id": "b9724ae9",
   "metadata": {
    "slideshow": {
     "slide_type": "slide"
    }
   },
   "source": [
    "<h2>Centroid Results</h2>"
   ]
  },
  {
   "cell_type": "code",
   "execution_count": null,
   "id": "a342fc49",
   "metadata": {},
   "outputs": [],
   "source": [
    "plt.plot(np.mean(z, axis=1))\n",
    "\n",
    "plt.xlabel('Turns')\n",
    "plt.ylabel(r'$\\langle z \\rangle$ [m]');"
   ]
  },
  {
   "cell_type": "markdown",
   "id": "f1e73476",
   "metadata": {},
   "source": [
    "$\\implies$ <b>exponential decay</b> of the initial offset (due to the non-linearity of the rf bucket)"
   ]
  },
  {
   "cell_type": "markdown",
   "id": "67b67810",
   "metadata": {
    "slideshow": {
     "slide_type": "slide"
    }
   },
   "source": [
    "<h2>RMS Bunch Length Results</h2>"
   ]
  },
  {
   "cell_type": "code",
   "execution_count": null,
   "id": "642809b6",
   "metadata": {},
   "outputs": [],
   "source": [
    "plt.plot(np.std(z, axis=1))\n",
    "\n",
    "plt.xlabel('Turns')\n",
    "plt.ylabel(r'$\\sigma_z$ [m]');"
   ]
  },
  {
   "cell_type": "markdown",
   "id": "0ea3b7b0",
   "metadata": {},
   "source": [
    "$\\implies$ saturation of the rms bunch length growth"
   ]
  },
  {
   "cell_type": "markdown",
   "id": "6f11327d",
   "metadata": {
    "slideshow": {
     "slide_type": "slide"
    }
   },
   "source": [
    "<h2>RMS Emittance Results</h2>"
   ]
  },
  {
   "cell_type": "code",
   "execution_count": null,
   "id": "ec8ef0e9",
   "metadata": {},
   "outputs": [],
   "source": [
    "epsn_z = np.array([emittance(z_i, deltap_i) for z_i, deltap_i in zip(z, deltap)])"
   ]
  },
  {
   "cell_type": "code",
   "execution_count": null,
   "id": "93b1d894",
   "metadata": {},
   "outputs": [],
   "source": [
    "plt.plot(epsn_z / e)\n",
    "\n",
    "plt.xlabel('Turns')\n",
    "plt.ylabel('$\\epsilon_z$ [eV.s]');"
   ]
  },
  {
   "cell_type": "markdown",
   "id": "179c760c",
   "metadata": {},
   "source": [
    "$\\implies$ in this example, 10% emittance growth as a result of the 4 meter injection offset."
   ]
  },
  {
   "cell_type": "code",
   "execution_count": null,
   "id": "3150a4b5",
   "metadata": {
    "scrolled": false,
    "slideshow": {
     "slide_type": "slide"
    }
   },
   "outputs": [],
   "source": [
    "plot_mp(z[-1], deltap[-1] / m.p0(), rfb=get_pyht_rfbucket(m), n_bins=40);"
   ]
  },
  {
   "cell_type": "markdown",
   "id": "7df53dca",
   "metadata": {},
   "source": [
    "$\\implies$ the filamentation of the macro-particle distribution is clearly visible!"
   ]
  },
  {
   "cell_type": "markdown",
   "id": "b865f50c",
   "metadata": {
    "slideshow": {
     "slide_type": "slide"
    }
   },
   "source": [
    "<h2>Section C: Quadrupole Injection Mismatch</h2>"
   ]
  },
  {
   "cell_type": "code",
   "execution_count": null,
   "id": "41030e99",
   "metadata": {},
   "outputs": [],
   "source": [
    "m = Machine(phi_s=0)\n",
    "\n",
    "sigma_z = 8\n",
    "\n",
    "z_ini, deltap_ini = generate_gaussian_in_rfbucket(N, sigma_z, m, margin=0.15)"
   ]
  },
  {
   "cell_type": "markdown",
   "id": "b2d6cde3",
   "metadata": {},
   "source": [
    "Simulate a quadrupole injection mismatch (e.g. when the rf voltage (rf bucket height) is not matched between the injector and the synchrotron):"
   ]
  },
  {
   "cell_type": "code",
   "execution_count": null,
   "id": "73d6896e",
   "metadata": {},
   "outputs": [],
   "source": [
    "deltap_ini *= 0.5"
   ]
  },
  {
   "cell_type": "code",
   "execution_count": null,
   "id": "cbef8089",
   "metadata": {
    "scrolled": false,
    "slideshow": {
     "slide_type": "slide"
    }
   },
   "outputs": [],
   "source": [
    "plot_mp(z_ini, deltap_ini / m.p0(), rfb=get_pyht_rfbucket(m), n_bins=20);"
   ]
  },
  {
   "cell_type": "markdown",
   "id": "e36fc069",
   "metadata": {},
   "source": [
    "$\\implies$ note the squeezed rms momentum spread, the contours of the macro-particle density are no longer matched to the Hamiltonian contours."
   ]
  },
  {
   "cell_type": "markdown",
   "id": "ae2917fc",
   "metadata": {
    "slideshow": {
     "slide_type": "slide"
    }
   },
   "source": [
    "Tracking the mismatched distribution of macro-particles:"
   ]
  },
  {
   "cell_type": "code",
   "execution_count": null,
   "id": "f0206eef",
   "metadata": {},
   "outputs": [],
   "source": [
    "z = np.zeros((n_turns, N), dtype=np.float64)\n",
    "deltap = np.zeros_like(z)\n",
    "\n",
    "z[0] = z_ini\n",
    "deltap[0] = deltap_ini"
   ]
  },
  {
   "cell_type": "code",
   "execution_count": null,
   "id": "19a30c05",
   "metadata": {},
   "outputs": [],
   "source": [
    "for i_turn in trange(1, n_turns):\n",
    "    z[i_turn], deltap[i_turn] = track_one_turn(z[i_turn - 1], deltap[i_turn - 1], m)"
   ]
  },
  {
   "cell_type": "markdown",
   "id": "8dbfce26",
   "metadata": {
    "slideshow": {
     "slide_type": "slide"
    }
   },
   "source": [
    "<h2>Centroid Results</h2>"
   ]
  },
  {
   "cell_type": "code",
   "execution_count": null,
   "id": "3dd2c009",
   "metadata": {},
   "outputs": [],
   "source": [
    "plt.plot(np.mean(z, axis=1))\n",
    "\n",
    "plt.xlabel('Turns')\n",
    "plt.ylabel(r'$\\langle z \\rangle$ [m]');"
   ]
  },
  {
   "cell_type": "markdown",
   "id": "ada386cd",
   "metadata": {},
   "source": [
    "$\\implies$ only residual centroid fluctuations (due to macro-particle noise)"
   ]
  },
  {
   "cell_type": "markdown",
   "id": "95561444",
   "metadata": {
    "slideshow": {
     "slide_type": "slide"
    }
   },
   "source": [
    "<h2>RMS Bunch Length Results</h2>"
   ]
  },
  {
   "cell_type": "code",
   "execution_count": null,
   "id": "740e5653",
   "metadata": {},
   "outputs": [],
   "source": [
    "plt.plot(np.std(z, axis=1))\n",
    "\n",
    "plt.xlabel('Turns')\n",
    "plt.ylabel(r'$\\sigma_z$ [m]');"
   ]
  },
  {
   "cell_type": "markdown",
   "id": "f997ccf8",
   "metadata": {},
   "source": [
    "$\\implies$ <b>exponential decay</b> of the initial momentum mismatch (due to the non-linearity of the rf bucket)"
   ]
  },
  {
   "cell_type": "markdown",
   "id": "1b28878b",
   "metadata": {
    "slideshow": {
     "slide_type": "slide"
    }
   },
   "source": [
    "<h2>RMS Emittance Results</h2>"
   ]
  },
  {
   "cell_type": "code",
   "execution_count": null,
   "id": "82fee1a4",
   "metadata": {},
   "outputs": [],
   "source": [
    "epsn_z = np.array([emittance(z_i, deltap_i) for z_i, deltap_i in zip(z, deltap)])"
   ]
  },
  {
   "cell_type": "code",
   "execution_count": null,
   "id": "d51b9bb8",
   "metadata": {},
   "outputs": [],
   "source": [
    "plt.plot(epsn_z / e)\n",
    "\n",
    "plt.xlabel('Turns')\n",
    "plt.ylabel('$\\epsilon_z$ [eV.s]');"
   ]
  },
  {
   "cell_type": "markdown",
   "id": "bde71e68",
   "metadata": {},
   "source": [
    "$\\implies$ in this example, 20% emittance growth as a result of the 50% momentum spread mismatch."
   ]
  },
  {
   "cell_type": "code",
   "execution_count": null,
   "id": "fef6f866",
   "metadata": {
    "scrolled": false,
    "slideshow": {
     "slide_type": "slide"
    }
   },
   "outputs": [],
   "source": [
    "plot_mp(z[-1], deltap[-1] / m.p0(), rfb=get_pyht_rfbucket(m), n_bins=40);"
   ]
  },
  {
   "cell_type": "markdown",
   "id": "752f29ae",
   "metadata": {},
   "source": [
    "$\\implies$ again, the filamentation of the macro-particle distribution is clearly visible!"
   ]
  },
  {
   "cell_type": "markdown",
   "id": "81fd2f35",
   "metadata": {
    "slideshow": {
     "slide_type": "slide"
    }
   },
   "source": [
    "<h2>Summary</h2>\n",
    "\n",
    "- full simulation of acceleration ramp, incl. transition crossing (and necessary synchronous phase adjustments!)\n",
    "- equilibrium distributions with nonlinear Hamiltonian\n",
    "- matching algorithm to find $\\mathcal{H}_0$ (given target rms bunch length $\\hat{\\sigma}_z$)\n",
    "- emittance growth mechanisms (dipole and quadrupole injection mismatch)"
   ]
  }
 ],
 "metadata": {
  "celltoolbar": "Slideshow",
  "kernelspec": {
   "display_name": "Python 3 (ipykernel)",
   "language": "python",
   "name": "python3"
  },
  "language_info": {
   "codemirror_mode": {
    "name": "ipython",
    "version": 3
   },
   "file_extension": ".py",
   "mimetype": "text/x-python",
   "name": "python",
   "nbconvert_exporter": "python",
   "pygments_lexer": "ipython3",
   "version": "3.8.0"
  },
  "rise": {
   "enable_chalkboard": true,
   "footer": "<p>Fachbereich Elektrotechnik und Informationstechnik (etit)   |   Institut für Teilchenbeschleunigung und Elektromagnetische Felder (TEMF)   |   Dr. Adrian Oeftiger</p>",
   "header": "<img src='https://upload.wikimedia.org/wikipedia/de/thumb/2/24/TU_Darmstadt_Logo.svg/640px-TU_Darmstadt_Logo.svg.png' />",
   "scroll": true,
   "theme": "simple",
   "transition": "none"
  }
 },
 "nbformat": 4,
 "nbformat_minor": 5
}
